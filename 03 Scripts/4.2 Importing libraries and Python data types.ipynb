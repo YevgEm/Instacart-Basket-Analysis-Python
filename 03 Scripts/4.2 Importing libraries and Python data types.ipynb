{
 "cells": [
  {
   "cell_type": "markdown",
   "id": "89db4330-7a31-482b-923d-a5726979a370",
   "metadata": {},
   "source": [
    "# Contents\n",
    "# 01. Importing libraries\n",
    "# 02. Data types\n",
    "# Bonus task"
   ]
  },
  {
   "cell_type": "markdown",
   "id": "06cbda9c-7592-4e99-ba1d-ed14ea0c8457",
   "metadata": {},
   "source": [
    "# 01. Importing libraries"
   ]
  },
  {
   "cell_type": "code",
   "execution_count": null,
   "id": "2c40788f-bd0c-489a-8fce-32e4c7dc70c2",
   "metadata": {},
   "outputs": [],
   "source": [
    "# Import libraries\n",
    "import pandas as pd\n",
    "import numpy as np\n",
    "import os"
   ]
  },
  {
   "cell_type": "markdown",
   "id": "f2dcd390-d528-4e84-baca-81d388aa276b",
   "metadata": {},
   "source": [
    "# 02. Data types"
   ]
  },
  {
   "cell_type": "code",
   "execution_count": 105,
   "id": "d2bc1a27-d17b-4ddd-ae54-5831364b7ebe",
   "metadata": {},
   "outputs": [],
   "source": [
    "x=55"
   ]
  },
  {
   "cell_type": "code",
   "execution_count": 107,
   "id": "26eb1339-c0f7-4a49-997f-ce97bb8918f3",
   "metadata": {},
   "outputs": [
    {
     "data": {
      "text/plain": [
       "100"
      ]
     },
     "execution_count": 107,
     "metadata": {},
     "output_type": "execute_result"
    }
   ],
   "source": [
    "x+45"
   ]
  },
  {
   "cell_type": "code",
   "execution_count": 113,
   "id": "6fb30531-0380-41f3-b068-3ee3a6376031",
   "metadata": {},
   "outputs": [],
   "source": [
    "y=234"
   ]
  },
  {
   "cell_type": "code",
   "execution_count": 115,
   "id": "e53c8bed-7c12-4bc1-80c1-fe6c324b319b",
   "metadata": {},
   "outputs": [
    {
     "data": {
      "text/plain": [
       "100"
      ]
     },
     "execution_count": 115,
     "metadata": {},
     "output_type": "execute_result"
    }
   ],
   "source": [
    "y-134"
   ]
  },
  {
   "cell_type": "code",
   "execution_count": 123,
   "id": "d5fd4c3e-51de-46a3-b548-758b21cbd743",
   "metadata": {},
   "outputs": [
    {
     "data": {
      "text/plain": [
       "100"
      ]
     },
     "execution_count": 123,
     "metadata": {},
     "output_type": "execute_result"
    }
   ],
   "source": [
    "y-x-79"
   ]
  },
  {
   "cell_type": "code",
   "execution_count": 125,
   "id": "c1893fe7-85b2-4b4e-97c2-adb46cb24558",
   "metadata": {},
   "outputs": [],
   "source": [
    "z=2.34"
   ]
  },
  {
   "cell_type": "code",
   "execution_count": 139,
   "id": "a6b53fd5-c630-4360-a465-933c56c34b75",
   "metadata": {},
   "outputs": [],
   "source": [
    "c=10.99"
   ]
  },
  {
   "cell_type": "code",
   "execution_count": 141,
   "id": "816c4256-361b-4c9f-9426-babb60b91e9f",
   "metadata": {},
   "outputs": [
    {
     "data": {
      "text/plain": [
       "0.04696581196581197"
      ]
     },
     "execution_count": 141,
     "metadata": {},
     "output_type": "execute_result"
    }
   ],
   "source": [
    "c/y"
   ]
  },
  {
   "cell_type": "code",
   "execution_count": 151,
   "id": "127bb752-b075-4d1d-ad52-d6e072298a3b",
   "metadata": {},
   "outputs": [],
   "source": [
    "k='py'"
   ]
  },
  {
   "cell_type": "code",
   "execution_count": 153,
   "id": "9dee07d2-3135-427e-ba04-81c7379b5cb4",
   "metadata": {},
   "outputs": [],
   "source": [
    "t='thon'"
   ]
  },
  {
   "cell_type": "code",
   "execution_count": 155,
   "id": "eae0fb0e-96c4-4673-97a8-46a13377216a",
   "metadata": {},
   "outputs": [
    {
     "data": {
      "text/plain": [
       "'python'"
      ]
     },
     "execution_count": 155,
     "metadata": {},
     "output_type": "execute_result"
    }
   ],
   "source": [
    "k+t"
   ]
  },
  {
   "cell_type": "code",
   "execution_count": 143,
   "id": "0c3c2ff3-b2ea-46ca-af51-2756e32e063c",
   "metadata": {},
   "outputs": [],
   "source": [
    "d='Hey, '"
   ]
  },
  {
   "cell_type": "code",
   "execution_count": 145,
   "id": "66a49366-1779-49b2-a489-f82cbea787a6",
   "metadata": {},
   "outputs": [],
   "source": [
    "e='Bash!'"
   ]
  },
  {
   "cell_type": "code",
   "execution_count": 159,
   "id": "9d5c32b7-6591-4c1c-85fb-6c6b93895623",
   "metadata": {},
   "outputs": [],
   "source": [
    "f='How are you doing?'"
   ]
  },
  {
   "cell_type": "code",
   "execution_count": 161,
   "id": "11bc39d6-fea3-4270-ac19-9780e6eb5a92",
   "metadata": {},
   "outputs": [
    {
     "data": {
      "text/plain": [
       "'Hey, Bash!How are you doing?'"
      ]
     },
     "execution_count": 161,
     "metadata": {},
     "output_type": "execute_result"
    }
   ],
   "source": [
    "d+e+f"
   ]
  },
  {
   "cell_type": "markdown",
   "id": "5c577049-4ba6-41b4-8f63-2684700010e5",
   "metadata": {},
   "source": []
  },
  {
   "cell_type": "markdown",
   "id": "9135cee2-398f-410f-9f93-1fc6a7d19d8c",
   "metadata": {},
   "source": [
    "# Bonus task"
   ]
  },
  {
   "cell_type": "code",
   "execution_count": 13,
   "id": "a84a36f4-2cda-4847-ad86-071acb4b0ef1",
   "metadata": {},
   "outputs": [],
   "source": [
    "h='bubble'"
   ]
  },
  {
   "cell_type": "code",
   "execution_count": 15,
   "id": "f72a4c6b-531d-4af1-ba9d-67da1f7bc3e7",
   "metadata": {},
   "outputs": [
    {
     "data": {
      "text/plain": [
       "'bubblebubblebubblebubblebubblebubblebubblebubblebubblebubblebubblebubblebubblebubblebubblebubblebubblebubblebubblebubblebubblebubblebubblebubblebubblebubblebubblebubblebubblebubblebubblebubblebubblebubblebubblebubblebubblebubblebubblebubblebubblebubblebubblebubblebubblebubblebubblebubblebubblebubblebubblebubblebubblebubblebubblebubblebubblebubblebubblebubblebubblebubblebubblebubblebubblebubblebubblebubblebubblebubblebubblebubblebubblebubblebubblebubblebubblebubblebubblebubblebubblebubblebubblebubblebubblebubblebubblebubblebubblebubblebubblebubblebubblebubblebubblebubblebubblebubblebubblebubble'"
      ]
     },
     "execution_count": 15,
     "metadata": {},
     "output_type": "execute_result"
    }
   ],
   "source": [
    "h*100"
   ]
  },
  {
   "cell_type": "code",
   "execution_count": null,
   "id": "65406a5a-ab35-4d3e-a60f-a8ed7b8bb8b5",
   "metadata": {},
   "outputs": [],
   "source": []
  }
 ],
 "metadata": {
  "kernelspec": {
   "display_name": "Python 3 (ipykernel)",
   "language": "python",
   "name": "python3"
  },
  "language_info": {
   "codemirror_mode": {
    "name": "ipython",
    "version": 3
   },
   "file_extension": ".py",
   "mimetype": "text/x-python",
   "name": "python",
   "nbconvert_exporter": "python",
   "pygments_lexer": "ipython3",
   "version": "3.12.7"
  }
 },
 "nbformat": 4,
 "nbformat_minor": 5
}
