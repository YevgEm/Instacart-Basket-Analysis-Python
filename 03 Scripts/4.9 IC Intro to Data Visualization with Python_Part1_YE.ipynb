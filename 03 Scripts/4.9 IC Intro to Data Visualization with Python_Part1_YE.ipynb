{
 "cells": [
  {
   "cell_type": "markdown",
   "id": "14b765bd-2407-414b-8ccb-224793abe069",
   "metadata": {},
   "source": [
    "# 4.9. \n",
    "# 4.9 IC Intro to Data Visualization with Python Part1\n",
    "# Contents\n",
    "## 1. Import libraries&data sets\n",
    "## 2. Wrangle the data so that it follows consistent logic.\n",
    "## 3. Data quality and consistency checks.\n",
    "## 4. Combine customer data with the rest of prepared Instacart data. \n",
    "## 5. Export the new dataframe as a pickle file so you can continue to use it in the second part of this task."
   ]
  },
  {
   "cell_type": "markdown",
   "id": "eb726bbc-66f1-41fb-a0e7-5890fa0fd1f5",
   "metadata": {},
   "source": [
    "## 1. Import libraries&data sets"
   ]
  },
  {
   "cell_type": "code",
   "execution_count": 1,
   "id": "49e0e19e-e08b-434e-b33d-b87085ef53ae",
   "metadata": {},
   "outputs": [],
   "source": [
    "# Import libraries\n",
    "import pandas as pd\n",
    "import numpy as np\n",
    "import os\n",
    "import matplotlib.pyplot as plt\n",
    "import seaborn as sns\n",
    "import scipy"
   ]
  },
  {
   "cell_type": "markdown",
   "id": "db36a78a-4982-46c0-8a23-558191385511",
   "metadata": {},
   "source": []
  },
  {
   "cell_type": "code",
   "execution_count": 3,
   "id": "4fdcf641-55ee-46e7-b4d0-ce04df59709c",
   "metadata": {},
   "outputs": [],
   "source": [
    "# Create project folder path\n",
    "path=r'/Users/yevgeniyaem/Documents/Weiterbildung Data Analytics/11-2024 Instacart Basket Analysis'"
   ]
  },
  {
   "cell_type": "code",
   "execution_count": 5,
   "id": "d542e1a1-fd8d-4385-8430-3561a985a1fe",
   "metadata": {},
   "outputs": [
    {
     "data": {
      "text/plain": [
       "'/Users/yevgeniyaem/Documents/Weiterbildung Data Analytics/11-2024 Instacart Basket Analysis'"
      ]
     },
     "execution_count": 5,
     "metadata": {},
     "output_type": "execute_result"
    }
   ],
   "source": [
    "path"
   ]
  },
  {
   "cell_type": "code",
   "execution_count": 7,
   "id": "c299e685-d635-4b1d-9153-12326107bdd7",
   "metadata": {},
   "outputs": [],
   "source": [
    "# Import \"customers.csv\"\n",
    "customers=pd.read_csv(os.path.join(path, '02 Data', 'Original Data', 'customers.csv'), index_col = False)"
   ]
  },
  {
   "cell_type": "code",
   "execution_count": 9,
   "id": "db4c623a-00d1-471e-a30c-f4c24468047e",
   "metadata": {},
   "outputs": [
    {
     "name": "stdout",
     "output_type": "stream",
     "text": [
      "<class 'pandas.core.frame.DataFrame'>\n",
      "RangeIndex: 206209 entries, 0 to 206208\n",
      "Data columns (total 10 columns):\n",
      " #   Column        Non-Null Count   Dtype \n",
      "---  ------        --------------   ----- \n",
      " 0   user_id       206209 non-null  int64 \n",
      " 1   First Name    194950 non-null  object\n",
      " 2   Surnam        206209 non-null  object\n",
      " 3   Gender        206209 non-null  object\n",
      " 4   STATE         206209 non-null  object\n",
      " 5   Age           206209 non-null  int64 \n",
      " 6   date_joined   206209 non-null  object\n",
      " 7   n_dependants  206209 non-null  int64 \n",
      " 8   fam_status    206209 non-null  object\n",
      " 9   income        206209 non-null  int64 \n",
      "dtypes: int64(4), object(6)\n",
      "memory usage: 15.7+ MB\n"
     ]
    }
   ],
   "source": [
    "# Check the output\n",
    "customers.info()"
   ]
  },
  {
   "cell_type": "markdown",
   "id": "576f563a-0926-43a7-b2a8-607a472b7ee4",
   "metadata": {},
   "source": [
    "## 2. Wrangle the data so that it follows consistent logic."
   ]
  },
  {
   "cell_type": "code",
   "execution_count": 11,
   "id": "6e4bf8e3-685b-41f9-8da5-9fa512fff40d",
   "metadata": {},
   "outputs": [
    {
     "data": {
      "text/plain": [
       "(206209, 10)"
      ]
     },
     "execution_count": 11,
     "metadata": {},
     "output_type": "execute_result"
    }
   ],
   "source": [
    "# Check the df\n",
    "customers.shape"
   ]
  },
  {
   "cell_type": "code",
   "execution_count": 13,
   "id": "6153f24e-be51-4dc1-8339-6b3de2fd369d",
   "metadata": {},
   "outputs": [
    {
     "data": {
      "text/html": [
       "<div>\n",
       "<style scoped>\n",
       "    .dataframe tbody tr th:only-of-type {\n",
       "        vertical-align: middle;\n",
       "    }\n",
       "\n",
       "    .dataframe tbody tr th {\n",
       "        vertical-align: top;\n",
       "    }\n",
       "\n",
       "    .dataframe thead th {\n",
       "        text-align: right;\n",
       "    }\n",
       "</style>\n",
       "<table border=\"1\" class=\"dataframe\">\n",
       "  <thead>\n",
       "    <tr style=\"text-align: right;\">\n",
       "      <th></th>\n",
       "      <th>user_id</th>\n",
       "      <th>Age</th>\n",
       "      <th>n_dependants</th>\n",
       "      <th>income</th>\n",
       "    </tr>\n",
       "  </thead>\n",
       "  <tbody>\n",
       "    <tr>\n",
       "      <th>count</th>\n",
       "      <td>206209.000000</td>\n",
       "      <td>206209.000000</td>\n",
       "      <td>206209.000000</td>\n",
       "      <td>206209.000000</td>\n",
       "    </tr>\n",
       "    <tr>\n",
       "      <th>mean</th>\n",
       "      <td>103105.000000</td>\n",
       "      <td>49.501646</td>\n",
       "      <td>1.499823</td>\n",
       "      <td>94632.852548</td>\n",
       "    </tr>\n",
       "    <tr>\n",
       "      <th>std</th>\n",
       "      <td>59527.555167</td>\n",
       "      <td>18.480962</td>\n",
       "      <td>1.118433</td>\n",
       "      <td>42473.786988</td>\n",
       "    </tr>\n",
       "    <tr>\n",
       "      <th>min</th>\n",
       "      <td>1.000000</td>\n",
       "      <td>18.000000</td>\n",
       "      <td>0.000000</td>\n",
       "      <td>25903.000000</td>\n",
       "    </tr>\n",
       "    <tr>\n",
       "      <th>25%</th>\n",
       "      <td>51553.000000</td>\n",
       "      <td>33.000000</td>\n",
       "      <td>0.000000</td>\n",
       "      <td>59874.000000</td>\n",
       "    </tr>\n",
       "    <tr>\n",
       "      <th>50%</th>\n",
       "      <td>103105.000000</td>\n",
       "      <td>49.000000</td>\n",
       "      <td>1.000000</td>\n",
       "      <td>93547.000000</td>\n",
       "    </tr>\n",
       "    <tr>\n",
       "      <th>75%</th>\n",
       "      <td>154657.000000</td>\n",
       "      <td>66.000000</td>\n",
       "      <td>3.000000</td>\n",
       "      <td>124244.000000</td>\n",
       "    </tr>\n",
       "    <tr>\n",
       "      <th>max</th>\n",
       "      <td>206209.000000</td>\n",
       "      <td>81.000000</td>\n",
       "      <td>3.000000</td>\n",
       "      <td>593901.000000</td>\n",
       "    </tr>\n",
       "  </tbody>\n",
       "</table>\n",
       "</div>"
      ],
      "text/plain": [
       "             user_id            Age   n_dependants         income\n",
       "count  206209.000000  206209.000000  206209.000000  206209.000000\n",
       "mean   103105.000000      49.501646       1.499823   94632.852548\n",
       "std     59527.555167      18.480962       1.118433   42473.786988\n",
       "min         1.000000      18.000000       0.000000   25903.000000\n",
       "25%     51553.000000      33.000000       0.000000   59874.000000\n",
       "50%    103105.000000      49.000000       1.000000   93547.000000\n",
       "75%    154657.000000      66.000000       3.000000  124244.000000\n",
       "max    206209.000000      81.000000       3.000000  593901.000000"
      ]
     },
     "execution_count": 13,
     "metadata": {},
     "output_type": "execute_result"
    }
   ],
   "source": [
    "customers.describe()"
   ]
  },
  {
   "cell_type": "code",
   "execution_count": 15,
   "id": "3a01f16e-584d-4580-b956-62566a2a4697",
   "metadata": {},
   "outputs": [
    {
     "data": {
      "text/plain": [
       "Index(['user_id', 'First Name', 'Surnam', 'Gender', 'STATE', 'Age',\n",
       "       'date_joined', 'n_dependants', 'fam_status', 'income'],\n",
       "      dtype='object')"
      ]
     },
     "execution_count": 15,
     "metadata": {},
     "output_type": "execute_result"
    }
   ],
   "source": [
    "customers.columns"
   ]
  },
  {
   "cell_type": "code",
   "execution_count": 17,
   "id": "22a36193-8c0a-4fe6-ad6c-72d721624e80",
   "metadata": {},
   "outputs": [],
   "source": [
    "# Rename columns\n",
    "customers = customers.rename(columns={ \n",
    "    'First Name' : 'first_name',\n",
    "    'Surnam' : 'last_name', \n",
    "    'Gender' : 'gender',\n",
    "    'STATE' : 'state', \n",
    "    'Age' : 'age',\n",
    "    'date_joined' : 'date_joined', \n",
    "    'n_dependants' : 'number_of_dependants',\n",
    "    'fam_status' : 'family_status'})"
   ]
  },
  {
   "cell_type": "code",
   "execution_count": 19,
   "id": "7aa43e04-dfb5-428b-8320-6b76e9e5902a",
   "metadata": {},
   "outputs": [
    {
     "data": {
      "text/html": [
       "<div>\n",
       "<style scoped>\n",
       "    .dataframe tbody tr th:only-of-type {\n",
       "        vertical-align: middle;\n",
       "    }\n",
       "\n",
       "    .dataframe tbody tr th {\n",
       "        vertical-align: top;\n",
       "    }\n",
       "\n",
       "    .dataframe thead th {\n",
       "        text-align: right;\n",
       "    }\n",
       "</style>\n",
       "<table border=\"1\" class=\"dataframe\">\n",
       "  <thead>\n",
       "    <tr style=\"text-align: right;\">\n",
       "      <th></th>\n",
       "      <th>user_id</th>\n",
       "      <th>first_name</th>\n",
       "      <th>last_name</th>\n",
       "      <th>gender</th>\n",
       "      <th>state</th>\n",
       "      <th>age</th>\n",
       "      <th>date_joined</th>\n",
       "      <th>number_of_dependants</th>\n",
       "      <th>family_status</th>\n",
       "      <th>income</th>\n",
       "    </tr>\n",
       "  </thead>\n",
       "  <tbody>\n",
       "    <tr>\n",
       "      <th>0</th>\n",
       "      <td>26711</td>\n",
       "      <td>Deborah</td>\n",
       "      <td>Esquivel</td>\n",
       "      <td>Female</td>\n",
       "      <td>Missouri</td>\n",
       "      <td>48</td>\n",
       "      <td>1/1/2017</td>\n",
       "      <td>3</td>\n",
       "      <td>married</td>\n",
       "      <td>165665</td>\n",
       "    </tr>\n",
       "    <tr>\n",
       "      <th>1</th>\n",
       "      <td>33890</td>\n",
       "      <td>Patricia</td>\n",
       "      <td>Hart</td>\n",
       "      <td>Female</td>\n",
       "      <td>New Mexico</td>\n",
       "      <td>36</td>\n",
       "      <td>1/1/2017</td>\n",
       "      <td>0</td>\n",
       "      <td>single</td>\n",
       "      <td>59285</td>\n",
       "    </tr>\n",
       "    <tr>\n",
       "      <th>2</th>\n",
       "      <td>65803</td>\n",
       "      <td>Kenneth</td>\n",
       "      <td>Farley</td>\n",
       "      <td>Male</td>\n",
       "      <td>Idaho</td>\n",
       "      <td>35</td>\n",
       "      <td>1/1/2017</td>\n",
       "      <td>2</td>\n",
       "      <td>married</td>\n",
       "      <td>99568</td>\n",
       "    </tr>\n",
       "    <tr>\n",
       "      <th>3</th>\n",
       "      <td>125935</td>\n",
       "      <td>Michelle</td>\n",
       "      <td>Hicks</td>\n",
       "      <td>Female</td>\n",
       "      <td>Iowa</td>\n",
       "      <td>40</td>\n",
       "      <td>1/1/2017</td>\n",
       "      <td>0</td>\n",
       "      <td>single</td>\n",
       "      <td>42049</td>\n",
       "    </tr>\n",
       "    <tr>\n",
       "      <th>4</th>\n",
       "      <td>130797</td>\n",
       "      <td>Ann</td>\n",
       "      <td>Gilmore</td>\n",
       "      <td>Female</td>\n",
       "      <td>Maryland</td>\n",
       "      <td>26</td>\n",
       "      <td>1/1/2017</td>\n",
       "      <td>1</td>\n",
       "      <td>married</td>\n",
       "      <td>40374</td>\n",
       "    </tr>\n",
       "  </tbody>\n",
       "</table>\n",
       "</div>"
      ],
      "text/plain": [
       "   user_id first_name last_name  gender       state  age date_joined  \\\n",
       "0    26711    Deborah  Esquivel  Female    Missouri   48    1/1/2017   \n",
       "1    33890   Patricia      Hart  Female  New Mexico   36    1/1/2017   \n",
       "2    65803    Kenneth    Farley    Male       Idaho   35    1/1/2017   \n",
       "3   125935   Michelle     Hicks  Female        Iowa   40    1/1/2017   \n",
       "4   130797        Ann   Gilmore  Female    Maryland   26    1/1/2017   \n",
       "\n",
       "   number_of_dependants family_status  income  \n",
       "0                     3       married  165665  \n",
       "1                     0        single   59285  \n",
       "2                     2       married   99568  \n",
       "3                     0        single   42049  \n",
       "4                     1       married   40374  "
      ]
     },
     "execution_count": 19,
     "metadata": {},
     "output_type": "execute_result"
    }
   ],
   "source": [
    "# Check the result\n",
    "customers.head()"
   ]
  },
  {
   "cell_type": "code",
   "execution_count": null,
   "id": "5c83ca8c-6e6c-4e3d-a741-b231be06866d",
   "metadata": {},
   "outputs": [],
   "source": [
    "#### No more wrangling actions necessary. All retainig columns are important for the analysis."
   ]
  },
  {
   "cell_type": "markdown",
   "id": "57274893-c9ce-44ef-84af-37c798812ac8",
   "metadata": {},
   "source": [
    "## 3. Data quality and consistency checks."
   ]
  },
  {
   "cell_type": "code",
   "execution_count": 21,
   "id": "b829468e-52a5-410a-aa3b-e251e8e3c6ba",
   "metadata": {},
   "outputs": [
    {
     "data": {
      "text/plain": [
       "user_id                  int64\n",
       "first_name              object\n",
       "last_name               object\n",
       "gender                  object\n",
       "state                   object\n",
       "age                      int64\n",
       "date_joined             object\n",
       "number_of_dependants     int64\n",
       "family_status           object\n",
       "income                   int64\n",
       "dtype: object"
      ]
     },
     "execution_count": 21,
     "metadata": {},
     "output_type": "execute_result"
    }
   ],
   "source": [
    "# Address data-types and potential mixed data-types in the dataframe\n",
    "customers.dtypes"
   ]
  },
  {
   "cell_type": "code",
   "execution_count": 23,
   "id": "f0d16407-9de7-415f-b641-21a2aa58a3a0",
   "metadata": {},
   "outputs": [
    {
     "name": "stdout",
     "output_type": "stream",
     "text": [
      "first_name\n"
     ]
    }
   ],
   "source": [
    "# Checking for mixed data-types in each column\n",
    "for col in customers.columns.tolist():\n",
    "  weird = (customers[[col]].map(type) != customers[[col]].iloc[0].apply(type)).any(axis = 1)\n",
    "  if len (customers[weird]) > 0:\n",
    "    print (col)"
   ]
  },
  {
   "cell_type": "code",
   "execution_count": null,
   "id": "0f00bd14-1ca4-48de-8f35-f90ef5041484",
   "metadata": {},
   "outputs": [],
   "source": [
    "### the column first_name contains mixed data-types. as next step i'll check if there are missing values"
   ]
  },
  {
   "cell_type": "code",
   "execution_count": 25,
   "id": "13971f17-35ce-4286-a830-deb7702d446c",
   "metadata": {},
   "outputs": [],
   "source": [
    "# Finding missing values\n",
    "missing_values = customers.isnull().sum()"
   ]
  },
  {
   "cell_type": "code",
   "execution_count": 27,
   "id": "fb34e2d2-f419-4073-99f7-f5204c84cff0",
   "metadata": {},
   "outputs": [
    {
     "data": {
      "text/plain": [
       "user_id                     0\n",
       "first_name              11259\n",
       "last_name                   0\n",
       "gender                      0\n",
       "state                       0\n",
       "age                         0\n",
       "date_joined                 0\n",
       "number_of_dependants        0\n",
       "family_status               0\n",
       "income                      0\n",
       "dtype: int64"
      ]
     },
     "execution_count": 27,
     "metadata": {},
     "output_type": "execute_result"
    }
   ],
   "source": [
    "missing_values"
   ]
  },
  {
   "cell_type": "code",
   "execution_count": 29,
   "id": "ee809e8b-a358-4d40-92b2-d910345fa9c1",
   "metadata": {},
   "outputs": [],
   "source": [
    "# Finding missing values in the column first_name\n",
    "missing_value_2 = customers['first_name'].isnull().sum()"
   ]
  },
  {
   "cell_type": "code",
   "execution_count": 31,
   "id": "e4909f5a-133c-4205-878d-d397207ce15d",
   "metadata": {},
   "outputs": [
    {
     "data": {
      "text/plain": [
       "11259"
      ]
     },
     "execution_count": 31,
     "metadata": {},
     "output_type": "execute_result"
    }
   ],
   "source": [
    "missing_value_2"
   ]
  },
  {
   "cell_type": "code",
   "execution_count": 33,
   "id": "f1116041-bffe-453a-990a-9abcf9cdec2a",
   "metadata": {},
   "outputs": [],
   "source": [
    "# Display rows with missing first_name values\n",
    "missing_value_2 = customers[customers['first_name'].isnull()]"
   ]
  },
  {
   "cell_type": "code",
   "execution_count": 35,
   "id": "98bad2e9-4a66-4687-8101-23cad0a3708a",
   "metadata": {},
   "outputs": [
    {
     "name": "stdout",
     "output_type": "stream",
     "text": [
      "        user_id first_name last_name  gender         state  age date_joined  \\\n",
      "53        76659        NaN   Gilbert    Male      Colorado   26    1/1/2017   \n",
      "73        13738        NaN     Frost  Female     Louisiana   39    1/1/2017   \n",
      "82        89996        NaN    Dawson  Female        Oregon   52    1/1/2017   \n",
      "99        96166        NaN   Oconnor    Male      Oklahoma   51    1/1/2017   \n",
      "105       29778        NaN    Dawson  Female          Utah   63    1/1/2017   \n",
      "...         ...        ...       ...     ...           ...  ...         ...   \n",
      "206038   121317        NaN    Melton    Male  Pennsylvania   28   3/31/2020   \n",
      "206044   200799        NaN  Copeland  Female        Hawaii   52    4/1/2020   \n",
      "206090   167394        NaN     Frost  Female        Hawaii   61    4/1/2020   \n",
      "206162   187532        NaN     Floyd  Female    California   39    4/1/2020   \n",
      "206171   116898        NaN   Delgado  Female      Colorado   23    4/1/2020   \n",
      "\n",
      "        number_of_dependants family_status  income  \n",
      "53                         2       married   41709  \n",
      "73                         0        single   82518  \n",
      "82                         3       married  117099  \n",
      "99                         1       married  155673  \n",
      "105                        3       married  151819  \n",
      "...                      ...           ...     ...  \n",
      "206038                     3       married   87783  \n",
      "206044                     2       married  108488  \n",
      "206090                     1       married   45275  \n",
      "206162                     0        single   56325  \n",
      "206171                     2       married   59222  \n",
      "\n",
      "[11259 rows x 10 columns]\n"
     ]
    }
   ],
   "source": [
    "print(missing_value_2)"
   ]
  },
  {
   "cell_type": "code",
   "execution_count": null,
   "id": "3ff2fef4-d662-4dd6-a635-97fb8ad89430",
   "metadata": {},
   "outputs": [],
   "source": [
    "### didn't recognize any pattern in missing values."
   ]
  },
  {
   "cell_type": "code",
   "execution_count": 37,
   "id": "2d5192cb-0503-4f96-a2c1-e566e47439d2",
   "metadata": {},
   "outputs": [
    {
     "name": "stdout",
     "output_type": "stream",
     "text": [
      "first_name\n",
      "<class 'str'>      194950\n",
      "<class 'float'>     11259\n",
      "Name: count, dtype: int64\n"
     ]
    }
   ],
   "source": [
    "# Check the unique data types in the column\n",
    "print(customers['first_name'].apply(type).value_counts())"
   ]
  },
  {
   "cell_type": "code",
   "execution_count": null,
   "id": "fc0eb31c-c04c-4d2e-adb3-81a07bba1d85",
   "metadata": {},
   "outputs": [],
   "source": [
    "### missing values contain more than 5% of the whole customers count, \n",
    "### so the suitable solution is here to handle the missing value is to impute them with \"unknown value\""
   ]
  },
  {
   "cell_type": "code",
   "execution_count": 39,
   "id": "a17f1519-6792-468b-ba39-ae2e91ea8974",
   "metadata": {},
   "outputs": [
    {
     "name": "stderr",
     "output_type": "stream",
     "text": [
      "/var/folders/gn/b13h25pn5k1500kc2862p30r0000gp/T/ipykernel_1897/1059873430.py:2: FutureWarning: A value is trying to be set on a copy of a DataFrame or Series through chained assignment using an inplace method.\n",
      "The behavior will change in pandas 3.0. This inplace method will never work because the intermediate object on which we are setting values always behaves as a copy.\n",
      "\n",
      "For example, when doing 'df[col].method(value, inplace=True)', try using 'df.method({col: value}, inplace=True)' or df[col] = df[col].method(value) instead, to perform the operation inplace on the original object.\n",
      "\n",
      "\n",
      "  customers['first_name'].fillna('Unknown', inplace=True)\n"
     ]
    }
   ],
   "source": [
    "# Imputing missing values with \"unknown\"\n",
    "customers['first_name'].fillna('Unknown', inplace=True)"
   ]
  },
  {
   "cell_type": "code",
   "execution_count": 41,
   "id": "0a940f5b-d653-4563-80c6-69bb5f2832ef",
   "metadata": {},
   "outputs": [
    {
     "name": "stdout",
     "output_type": "stream",
     "text": [
      "0\n"
     ]
    }
   ],
   "source": [
    "# Verify the updates\n",
    "print(customers['first_name'].isnull().sum())  # Should return 0 missing values"
   ]
  },
  {
   "cell_type": "code",
   "execution_count": 43,
   "id": "ed5d971d-aaf5-4a0d-a1be-8ca54274b8c3",
   "metadata": {},
   "outputs": [
    {
     "name": "stdout",
     "output_type": "stream",
     "text": [
      "first_name\n",
      "<class 'str'>    206209\n",
      "Name: count, dtype: int64\n"
     ]
    }
   ],
   "source": [
    "# Ensure all data types are consistent\n",
    "print(customers['first_name'].apply(type).value_counts())  "
   ]
  },
  {
   "cell_type": "code",
   "execution_count": 45,
   "id": "cad06b6d-3ca6-4b1f-a3c5-4306690d7fb2",
   "metadata": {},
   "outputs": [],
   "source": [
    "# Finding duplicates\n",
    "dups_customer = customers[customers.duplicated()]"
   ]
  },
  {
   "cell_type": "code",
   "execution_count": 47,
   "id": "68537865-0ac8-46bd-9022-2738e0ec0b36",
   "metadata": {},
   "outputs": [
    {
     "data": {
      "text/html": [
       "<div>\n",
       "<style scoped>\n",
       "    .dataframe tbody tr th:only-of-type {\n",
       "        vertical-align: middle;\n",
       "    }\n",
       "\n",
       "    .dataframe tbody tr th {\n",
       "        vertical-align: top;\n",
       "    }\n",
       "\n",
       "    .dataframe thead th {\n",
       "        text-align: right;\n",
       "    }\n",
       "</style>\n",
       "<table border=\"1\" class=\"dataframe\">\n",
       "  <thead>\n",
       "    <tr style=\"text-align: right;\">\n",
       "      <th></th>\n",
       "      <th>user_id</th>\n",
       "      <th>first_name</th>\n",
       "      <th>last_name</th>\n",
       "      <th>gender</th>\n",
       "      <th>state</th>\n",
       "      <th>age</th>\n",
       "      <th>date_joined</th>\n",
       "      <th>number_of_dependants</th>\n",
       "      <th>family_status</th>\n",
       "      <th>income</th>\n",
       "    </tr>\n",
       "  </thead>\n",
       "  <tbody>\n",
       "  </tbody>\n",
       "</table>\n",
       "</div>"
      ],
      "text/plain": [
       "Empty DataFrame\n",
       "Columns: [user_id, first_name, last_name, gender, state, age, date_joined, number_of_dependants, family_status, income]\n",
       "Index: []"
      ]
     },
     "execution_count": 47,
     "metadata": {},
     "output_type": "execute_result"
    }
   ],
   "source": [
    "dups_customer"
   ]
  },
  {
   "cell_type": "code",
   "execution_count": null,
   "id": "df00bf03-5367-4f2e-a9b2-3339b628189e",
   "metadata": {},
   "outputs": [],
   "source": [
    "#### there are no duplicates found"
   ]
  },
  {
   "cell_type": "code",
   "execution_count": 49,
   "id": "69e3a913-732e-4d14-b4e0-8736da54b1a9",
   "metadata": {},
   "outputs": [
    {
     "data": {
      "text/plain": [
       "user_id                  int64\n",
       "first_name              object\n",
       "last_name               object\n",
       "gender                  object\n",
       "state                   object\n",
       "age                      int64\n",
       "date_joined             object\n",
       "number_of_dependants     int64\n",
       "family_status           object\n",
       "income                   int64\n",
       "dtype: object"
      ]
     },
     "execution_count": 49,
     "metadata": {},
     "output_type": "execute_result"
    }
   ],
   "source": [
    "# Re-check the data-types in the data frame and for mixed data-types\n",
    "customers.dtypes"
   ]
  },
  {
   "cell_type": "code",
   "execution_count": 51,
   "id": "80b91347-36fa-4fd9-ba22-80031460e46f",
   "metadata": {},
   "outputs": [],
   "source": [
    "for col in customers.columns.tolist():\n",
    "  weird = (customers[[col]].map(type) != customers[[col]].iloc[0].apply(type)).any(axis = 1)\n",
    "  if len (customers[weird]) > 0:\n",
    "    print (col)"
   ]
  },
  {
   "cell_type": "code",
   "execution_count": null,
   "id": "3691c2cf-3e2d-462f-b28f-fd7e5910baf6",
   "metadata": {},
   "outputs": [],
   "source": [
    "#### no mixed data type identified"
   ]
  },
  {
   "cell_type": "code",
   "execution_count": 53,
   "id": "05aa38f7-82d8-44ab-92b8-2b341a2ef9df",
   "metadata": {},
   "outputs": [
    {
     "data": {
      "text/plain": [
       "user_id                 0\n",
       "first_name              0\n",
       "last_name               0\n",
       "gender                  0\n",
       "state                   0\n",
       "age                     0\n",
       "date_joined             0\n",
       "number_of_dependants    0\n",
       "family_status           0\n",
       "income                  0\n",
       "dtype: int64"
      ]
     },
     "execution_count": 53,
     "metadata": {},
     "output_type": "execute_result"
    }
   ],
   "source": [
    "# Check for missing data\n",
    "customers.isnull().sum()"
   ]
  },
  {
   "cell_type": "code",
   "execution_count": 55,
   "id": "292d1924-f8d2-408d-8f51-93c0aa1d9755",
   "metadata": {},
   "outputs": [
    {
     "data": {
      "text/html": [
       "<div>\n",
       "<style scoped>\n",
       "    .dataframe tbody tr th:only-of-type {\n",
       "        vertical-align: middle;\n",
       "    }\n",
       "\n",
       "    .dataframe tbody tr th {\n",
       "        vertical-align: top;\n",
       "    }\n",
       "\n",
       "    .dataframe thead th {\n",
       "        text-align: right;\n",
       "    }\n",
       "</style>\n",
       "<table border=\"1\" class=\"dataframe\">\n",
       "  <thead>\n",
       "    <tr style=\"text-align: right;\">\n",
       "      <th></th>\n",
       "      <th>user_id</th>\n",
       "      <th>age</th>\n",
       "      <th>number_of_dependants</th>\n",
       "      <th>income</th>\n",
       "    </tr>\n",
       "  </thead>\n",
       "  <tbody>\n",
       "    <tr>\n",
       "      <th>count</th>\n",
       "      <td>206209.000000</td>\n",
       "      <td>206209.000000</td>\n",
       "      <td>206209.000000</td>\n",
       "      <td>206209.000000</td>\n",
       "    </tr>\n",
       "    <tr>\n",
       "      <th>mean</th>\n",
       "      <td>103105.000000</td>\n",
       "      <td>49.501646</td>\n",
       "      <td>1.499823</td>\n",
       "      <td>94632.852548</td>\n",
       "    </tr>\n",
       "    <tr>\n",
       "      <th>std</th>\n",
       "      <td>59527.555167</td>\n",
       "      <td>18.480962</td>\n",
       "      <td>1.118433</td>\n",
       "      <td>42473.786988</td>\n",
       "    </tr>\n",
       "    <tr>\n",
       "      <th>min</th>\n",
       "      <td>1.000000</td>\n",
       "      <td>18.000000</td>\n",
       "      <td>0.000000</td>\n",
       "      <td>25903.000000</td>\n",
       "    </tr>\n",
       "    <tr>\n",
       "      <th>25%</th>\n",
       "      <td>51553.000000</td>\n",
       "      <td>33.000000</td>\n",
       "      <td>0.000000</td>\n",
       "      <td>59874.000000</td>\n",
       "    </tr>\n",
       "    <tr>\n",
       "      <th>50%</th>\n",
       "      <td>103105.000000</td>\n",
       "      <td>49.000000</td>\n",
       "      <td>1.000000</td>\n",
       "      <td>93547.000000</td>\n",
       "    </tr>\n",
       "    <tr>\n",
       "      <th>75%</th>\n",
       "      <td>154657.000000</td>\n",
       "      <td>66.000000</td>\n",
       "      <td>3.000000</td>\n",
       "      <td>124244.000000</td>\n",
       "    </tr>\n",
       "    <tr>\n",
       "      <th>max</th>\n",
       "      <td>206209.000000</td>\n",
       "      <td>81.000000</td>\n",
       "      <td>3.000000</td>\n",
       "      <td>593901.000000</td>\n",
       "    </tr>\n",
       "  </tbody>\n",
       "</table>\n",
       "</div>"
      ],
      "text/plain": [
       "             user_id            age  number_of_dependants         income\n",
       "count  206209.000000  206209.000000         206209.000000  206209.000000\n",
       "mean   103105.000000      49.501646              1.499823   94632.852548\n",
       "std     59527.555167      18.480962              1.118433   42473.786988\n",
       "min         1.000000      18.000000              0.000000   25903.000000\n",
       "25%     51553.000000      33.000000              0.000000   59874.000000\n",
       "50%    103105.000000      49.000000              1.000000   93547.000000\n",
       "75%    154657.000000      66.000000              3.000000  124244.000000\n",
       "max    206209.000000      81.000000              3.000000  593901.000000"
      ]
     },
     "execution_count": 55,
     "metadata": {},
     "output_type": "execute_result"
    }
   ],
   "source": [
    "# Perform a descriptive statistic check to ensure everything looks normal\n",
    "customers.describe()"
   ]
  },
  {
   "cell_type": "code",
   "execution_count": null,
   "id": "1d44cec7-ecfd-4cb9-b51d-aba97bba83e2",
   "metadata": {},
   "outputs": [],
   "source": [
    "####  There's nothing unusual present in the descriptive statistics"
   ]
  },
  {
   "cell_type": "markdown",
   "id": "b9123bc1-988f-49f5-9127-01e0a8667a42",
   "metadata": {},
   "source": [
    "## 4. Combine customer data with the rest of prepared Instacart data. "
   ]
  },
  {
   "cell_type": "code",
   "execution_count": 57,
   "id": "a5278928-fd2c-411f-89e8-3b5c381c5626",
   "metadata": {},
   "outputs": [],
   "source": [
    "# Import of the prepared data \"ords_prods_merged_grouped.pkl\"\n",
    "ords_prods=pd.read_pickle(os.path.join(path, '02 Data', 'Prepared Data', 'orders_products_merged_grouped.pkl'))"
   ]
  },
  {
   "cell_type": "code",
   "execution_count": 59,
   "id": "95700a36-1bb5-4d9d-acb9-c924328a465d",
   "metadata": {},
   "outputs": [
    {
     "data": {
      "text/plain": [
       "(32404859, 19)"
      ]
     },
     "execution_count": 59,
     "metadata": {},
     "output_type": "execute_result"
    }
   ],
   "source": [
    "# Check the shape of the newly imported dataframe\n",
    "ords_prods.shape"
   ]
  },
  {
   "cell_type": "code",
   "execution_count": 61,
   "id": "558c62f1-ab7d-43c0-8a4e-53631da6227d",
   "metadata": {},
   "outputs": [
    {
     "data": {
      "text/plain": [
       "order_id                       object\n",
       "user_id                         int64\n",
       "customers_order_count           int64\n",
       "orders_day_of_week              int64\n",
       "order_hour_of_day               int64\n",
       "days_since_prior_order        float64\n",
       "product_id                      int64\n",
       "add_to_cart_order               int64\n",
       "reordered                       int64\n",
       "product_name                   object\n",
       "aisle_id                        int64\n",
       "department_id                   int64\n",
       "prices                        float64\n",
       "max_order                       int64\n",
       "loyalty_flag                   object\n",
       "spending_flag                  object\n",
       "avg_user_price                float64\n",
       "median_days_between_orders    float64\n",
       "frequency_flag                 object\n",
       "dtype: object"
      ]
     },
     "execution_count": 61,
     "metadata": {},
     "output_type": "execute_result"
    }
   ],
   "source": [
    "# Check the data type of columns\n",
    "ords_prods.dtypes"
   ]
  },
  {
   "cell_type": "code",
   "execution_count": null,
   "id": "7a87c465-7c6a-4819-859c-6fbabca16192",
   "metadata": {},
   "outputs": [],
   "source": [
    "###### Key column of both data frames is user_id, in both data frames are int64 data type. The combining of data with the default join (inner) can be provided."
   ]
  },
  {
   "cell_type": "code",
   "execution_count": 63,
   "id": "7a74f95b-250a-42a9-a9b0-b5bcff951133",
   "metadata": {},
   "outputs": [],
   "source": [
    "# Merging if both data frames\n",
    "orders_products_all = ords_prods.merge(customers, on = 'user_id', indicator = True)"
   ]
  },
  {
   "cell_type": "code",
   "execution_count": 64,
   "id": "1b78d10b-40c0-4066-8011-67f3e04e1f55",
   "metadata": {},
   "outputs": [
    {
     "name": "stdout",
     "output_type": "stream",
     "text": [
      "<class 'pandas.core.frame.DataFrame'>\n",
      "RangeIndex: 32404859 entries, 0 to 32404858\n",
      "Data columns (total 29 columns):\n",
      " #   Column                      Dtype   \n",
      "---  ------                      -----   \n",
      " 0   order_id                    object  \n",
      " 1   user_id                     int64   \n",
      " 2   customers_order_count       int64   \n",
      " 3   orders_day_of_week          int64   \n",
      " 4   order_hour_of_day           int64   \n",
      " 5   days_since_prior_order      float64 \n",
      " 6   product_id                  int64   \n",
      " 7   add_to_cart_order           int64   \n",
      " 8   reordered                   int64   \n",
      " 9   product_name                object  \n",
      " 10  aisle_id                    int64   \n",
      " 11  department_id               int64   \n",
      " 12  prices                      float64 \n",
      " 13  max_order                   int64   \n",
      " 14  loyalty_flag                object  \n",
      " 15  spending_flag               object  \n",
      " 16  avg_user_price              float64 \n",
      " 17  median_days_between_orders  float64 \n",
      " 18  frequency_flag              object  \n",
      " 19  first_name                  object  \n",
      " 20  last_name                   object  \n",
      " 21  gender                      object  \n",
      " 22  state                       object  \n",
      " 23  age                         int64   \n",
      " 24  date_joined                 object  \n",
      " 25  number_of_dependants        int64   \n",
      " 26  family_status               object  \n",
      " 27  income                      int64   \n",
      " 28  _merge                      category\n",
      "dtypes: category(1), float64(4), int64(13), object(11)\n",
      "memory usage: 6.8+ GB\n"
     ]
    }
   ],
   "source": [
    "# Check the result\n",
    "orders_products_all.info()"
   ]
  },
  {
   "cell_type": "code",
   "execution_count": 67,
   "id": "9eea2071-53bf-42ac-8248-e88f24b7455e",
   "metadata": {},
   "outputs": [
    {
     "data": {
      "text/html": [
       "<div>\n",
       "<style scoped>\n",
       "    .dataframe tbody tr th:only-of-type {\n",
       "        vertical-align: middle;\n",
       "    }\n",
       "\n",
       "    .dataframe tbody tr th {\n",
       "        vertical-align: top;\n",
       "    }\n",
       "\n",
       "    .dataframe thead th {\n",
       "        text-align: right;\n",
       "    }\n",
       "</style>\n",
       "<table border=\"1\" class=\"dataframe\">\n",
       "  <thead>\n",
       "    <tr style=\"text-align: right;\">\n",
       "      <th></th>\n",
       "      <th>order_id</th>\n",
       "      <th>user_id</th>\n",
       "      <th>customers_order_count</th>\n",
       "      <th>orders_day_of_week</th>\n",
       "      <th>order_hour_of_day</th>\n",
       "      <th>days_since_prior_order</th>\n",
       "      <th>product_id</th>\n",
       "      <th>add_to_cart_order</th>\n",
       "      <th>reordered</th>\n",
       "      <th>product_name</th>\n",
       "      <th>...</th>\n",
       "      <th>first_name</th>\n",
       "      <th>last_name</th>\n",
       "      <th>gender</th>\n",
       "      <th>state</th>\n",
       "      <th>age</th>\n",
       "      <th>date_joined</th>\n",
       "      <th>number_of_dependants</th>\n",
       "      <th>family_status</th>\n",
       "      <th>income</th>\n",
       "      <th>_merge</th>\n",
       "    </tr>\n",
       "  </thead>\n",
       "  <tbody>\n",
       "    <tr>\n",
       "      <th>0</th>\n",
       "      <td>2539329</td>\n",
       "      <td>1</td>\n",
       "      <td>1</td>\n",
       "      <td>2</td>\n",
       "      <td>8</td>\n",
       "      <td>0.0</td>\n",
       "      <td>196</td>\n",
       "      <td>1</td>\n",
       "      <td>0</td>\n",
       "      <td>Soda</td>\n",
       "      <td>...</td>\n",
       "      <td>Linda</td>\n",
       "      <td>Nguyen</td>\n",
       "      <td>Female</td>\n",
       "      <td>Alabama</td>\n",
       "      <td>31</td>\n",
       "      <td>2/17/2019</td>\n",
       "      <td>3</td>\n",
       "      <td>married</td>\n",
       "      <td>40423</td>\n",
       "      <td>both</td>\n",
       "    </tr>\n",
       "    <tr>\n",
       "      <th>1</th>\n",
       "      <td>2539329</td>\n",
       "      <td>1</td>\n",
       "      <td>1</td>\n",
       "      <td>2</td>\n",
       "      <td>8</td>\n",
       "      <td>0.0</td>\n",
       "      <td>14084</td>\n",
       "      <td>2</td>\n",
       "      <td>0</td>\n",
       "      <td>Organic Unsweetened Vanilla Almond Milk</td>\n",
       "      <td>...</td>\n",
       "      <td>Linda</td>\n",
       "      <td>Nguyen</td>\n",
       "      <td>Female</td>\n",
       "      <td>Alabama</td>\n",
       "      <td>31</td>\n",
       "      <td>2/17/2019</td>\n",
       "      <td>3</td>\n",
       "      <td>married</td>\n",
       "      <td>40423</td>\n",
       "      <td>both</td>\n",
       "    </tr>\n",
       "    <tr>\n",
       "      <th>2</th>\n",
       "      <td>2539329</td>\n",
       "      <td>1</td>\n",
       "      <td>1</td>\n",
       "      <td>2</td>\n",
       "      <td>8</td>\n",
       "      <td>0.0</td>\n",
       "      <td>12427</td>\n",
       "      <td>3</td>\n",
       "      <td>0</td>\n",
       "      <td>Original Beef Jerky</td>\n",
       "      <td>...</td>\n",
       "      <td>Linda</td>\n",
       "      <td>Nguyen</td>\n",
       "      <td>Female</td>\n",
       "      <td>Alabama</td>\n",
       "      <td>31</td>\n",
       "      <td>2/17/2019</td>\n",
       "      <td>3</td>\n",
       "      <td>married</td>\n",
       "      <td>40423</td>\n",
       "      <td>both</td>\n",
       "    </tr>\n",
       "    <tr>\n",
       "      <th>3</th>\n",
       "      <td>2539329</td>\n",
       "      <td>1</td>\n",
       "      <td>1</td>\n",
       "      <td>2</td>\n",
       "      <td>8</td>\n",
       "      <td>0.0</td>\n",
       "      <td>26088</td>\n",
       "      <td>4</td>\n",
       "      <td>0</td>\n",
       "      <td>Aged White Cheddar Popcorn</td>\n",
       "      <td>...</td>\n",
       "      <td>Linda</td>\n",
       "      <td>Nguyen</td>\n",
       "      <td>Female</td>\n",
       "      <td>Alabama</td>\n",
       "      <td>31</td>\n",
       "      <td>2/17/2019</td>\n",
       "      <td>3</td>\n",
       "      <td>married</td>\n",
       "      <td>40423</td>\n",
       "      <td>both</td>\n",
       "    </tr>\n",
       "    <tr>\n",
       "      <th>4</th>\n",
       "      <td>2539329</td>\n",
       "      <td>1</td>\n",
       "      <td>1</td>\n",
       "      <td>2</td>\n",
       "      <td>8</td>\n",
       "      <td>0.0</td>\n",
       "      <td>26405</td>\n",
       "      <td>5</td>\n",
       "      <td>0</td>\n",
       "      <td>XL Pick-A-Size Paper Towel Rolls</td>\n",
       "      <td>...</td>\n",
       "      <td>Linda</td>\n",
       "      <td>Nguyen</td>\n",
       "      <td>Female</td>\n",
       "      <td>Alabama</td>\n",
       "      <td>31</td>\n",
       "      <td>2/17/2019</td>\n",
       "      <td>3</td>\n",
       "      <td>married</td>\n",
       "      <td>40423</td>\n",
       "      <td>both</td>\n",
       "    </tr>\n",
       "  </tbody>\n",
       "</table>\n",
       "<p>5 rows × 29 columns</p>\n",
       "</div>"
      ],
      "text/plain": [
       "  order_id  user_id  customers_order_count  orders_day_of_week  \\\n",
       "0  2539329        1                      1                   2   \n",
       "1  2539329        1                      1                   2   \n",
       "2  2539329        1                      1                   2   \n",
       "3  2539329        1                      1                   2   \n",
       "4  2539329        1                      1                   2   \n",
       "\n",
       "   order_hour_of_day  days_since_prior_order  product_id  add_to_cart_order  \\\n",
       "0                  8                     0.0         196                  1   \n",
       "1                  8                     0.0       14084                  2   \n",
       "2                  8                     0.0       12427                  3   \n",
       "3                  8                     0.0       26088                  4   \n",
       "4                  8                     0.0       26405                  5   \n",
       "\n",
       "   reordered                             product_name  ...  first_name  \\\n",
       "0          0                                     Soda  ...       Linda   \n",
       "1          0  Organic Unsweetened Vanilla Almond Milk  ...       Linda   \n",
       "2          0                      Original Beef Jerky  ...       Linda   \n",
       "3          0               Aged White Cheddar Popcorn  ...       Linda   \n",
       "4          0         XL Pick-A-Size Paper Towel Rolls  ...       Linda   \n",
       "\n",
       "   last_name  gender    state age date_joined  number_of_dependants  \\\n",
       "0     Nguyen  Female  Alabama  31   2/17/2019                     3   \n",
       "1     Nguyen  Female  Alabama  31   2/17/2019                     3   \n",
       "2     Nguyen  Female  Alabama  31   2/17/2019                     3   \n",
       "3     Nguyen  Female  Alabama  31   2/17/2019                     3   \n",
       "4     Nguyen  Female  Alabama  31   2/17/2019                     3   \n",
       "\n",
       "   family_status income _merge  \n",
       "0        married  40423   both  \n",
       "1        married  40423   both  \n",
       "2        married  40423   both  \n",
       "3        married  40423   both  \n",
       "4        married  40423   both  \n",
       "\n",
       "[5 rows x 29 columns]"
      ]
     },
     "execution_count": 67,
     "metadata": {},
     "output_type": "execute_result"
    }
   ],
   "source": [
    "# Check the head\n",
    "orders_products_all.head()"
   ]
  },
  {
   "cell_type": "code",
   "execution_count": 69,
   "id": "cebb6d4d-0efe-4f46-b1b9-36f67078349b",
   "metadata": {},
   "outputs": [
    {
     "data": {
      "text/plain": [
       "_merge\n",
       "both          32404859\n",
       "left_only            0\n",
       "right_only           0\n",
       "Name: count, dtype: int64"
      ]
     },
     "execution_count": 69,
     "metadata": {},
     "output_type": "execute_result"
    }
   ],
   "source": [
    "# Check inner join value counts\n",
    "orders_products_all['_merge'].value_counts()"
   ]
  },
  {
   "cell_type": "code",
   "execution_count": 71,
   "id": "297e8549-c477-4fdf-a5dd-39ea471e9f0c",
   "metadata": {},
   "outputs": [],
   "source": [
    "# Droping \"_merge\" column \n",
    "orders_products_all=orders_products_all.drop(columns = ['_merge'])"
   ]
  },
  {
   "cell_type": "code",
   "execution_count": 73,
   "id": "87564f75-3201-4453-87a7-a16fe6e4a97b",
   "metadata": {},
   "outputs": [
    {
     "name": "stdout",
     "output_type": "stream",
     "text": [
      "<class 'pandas.core.frame.DataFrame'>\n",
      "RangeIndex: 32404859 entries, 0 to 32404858\n",
      "Data columns (total 28 columns):\n",
      " #   Column                      Dtype  \n",
      "---  ------                      -----  \n",
      " 0   order_id                    object \n",
      " 1   user_id                     int64  \n",
      " 2   customers_order_count       int64  \n",
      " 3   orders_day_of_week          int64  \n",
      " 4   order_hour_of_day           int64  \n",
      " 5   days_since_prior_order      float64\n",
      " 6   product_id                  int64  \n",
      " 7   add_to_cart_order           int64  \n",
      " 8   reordered                   int64  \n",
      " 9   product_name                object \n",
      " 10  aisle_id                    int64  \n",
      " 11  department_id               int64  \n",
      " 12  prices                      float64\n",
      " 13  max_order                   int64  \n",
      " 14  loyalty_flag                object \n",
      " 15  spending_flag               object \n",
      " 16  avg_user_price              float64\n",
      " 17  median_days_between_orders  float64\n",
      " 18  frequency_flag              object \n",
      " 19  first_name                  object \n",
      " 20  last_name                   object \n",
      " 21  gender                      object \n",
      " 22  state                       object \n",
      " 23  age                         int64  \n",
      " 24  date_joined                 object \n",
      " 25  number_of_dependants        int64  \n",
      " 26  family_status               object \n",
      " 27  income                      int64  \n",
      "dtypes: float64(4), int64(13), object(11)\n",
      "memory usage: 6.8+ GB\n"
     ]
    }
   ],
   "source": [
    "# Check the output\n",
    "orders_products_all.info()"
   ]
  },
  {
   "cell_type": "markdown",
   "id": "36808bca-ef21-4109-9c25-31785c7ba2bc",
   "metadata": {},
   "source": [
    "## 5. Export the new dataframe as a pickle file so you can continue to use it in the second part of this task."
   ]
  },
  {
   "cell_type": "code",
   "execution_count": 75,
   "id": "26adfafc-3250-4b1f-93fd-8ce6e5e21350",
   "metadata": {},
   "outputs": [],
   "source": [
    "# Export orders_products_all as \"orders_products_all.pkl\"\n",
    "orders_products_all.to_pickle(os.path.join(path, '02 Data', 'Prepared Data', 'orders_products_all.pkl'))"
   ]
  },
  {
   "cell_type": "code",
   "execution_count": null,
   "id": "b39abaf7-2cf4-4f76-8e86-81e06db57c5e",
   "metadata": {},
   "outputs": [],
   "source": []
  }
 ],
 "metadata": {
  "kernelspec": {
   "display_name": "Python 3 (ipykernel)",
   "language": "python",
   "name": "python3"
  },
  "language_info": {
   "codemirror_mode": {
    "name": "ipython",
    "version": 3
   },
   "file_extension": ".py",
   "mimetype": "text/x-python",
   "name": "python",
   "nbconvert_exporter": "python",
   "pygments_lexer": "ipython3",
   "version": "3.12.7"
  }
 },
 "nbformat": 4,
 "nbformat_minor": 5
}
